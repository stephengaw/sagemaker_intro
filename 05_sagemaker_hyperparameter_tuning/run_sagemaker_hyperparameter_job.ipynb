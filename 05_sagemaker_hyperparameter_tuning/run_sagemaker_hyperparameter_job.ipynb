{
 "cells": [
  {
   "cell_type": "markdown",
   "metadata": {},
   "source": [
    "# 05 - Running Sagemaker Hyperparameter optimisation with your ML Script\n",
    "\n",
    "You want to test various hyperparameters by testing and evaluating your module multiple times. SageMaker can do this by creating many jobs in parallel."
   ]
  },
  {
   "cell_type": "code",
   "execution_count": 18,
   "metadata": {},
   "outputs": [],
   "source": [
    "import os\n",
    "import boto3\n",
    "from sagemaker import Session\n",
    "from sagemaker.sklearn.estimator import SKLearn\n",
    "from sagemaker.tuner import HyperparameterTuner\n",
    "from sagemaker.tuner import CategoricalParameter, ContinuousParameter\n",
    "from sagemaker.analytics import HyperparameterTuningJobAnalytics"
   ]
  },
  {
   "cell_type": "markdown",
   "metadata": {},
   "source": [
    "## AWS Session"
   ]
  },
  {
   "cell_type": "code",
   "execution_count": 6,
   "metadata": {},
   "outputs": [],
   "source": [
    "boto3_session = boto3.Session(region_name=os.environ.get(\"DEMO_AWS_REGION\"), profile_name=os.environ.get(\"DEMO_AWS_PROFILE_NAME\"))\n",
    "\n",
    "sagemaker_session = Session(boto_session=boto3_session)\n",
    "\n",
    "account = os.environ.get(\"DEMO_AWS_ACCOUNT\")  # sandbox-admin account\n",
    "role = f\"arn:aws:iam::{account}:role/service-role/AmazonSageMaker-ExecutionRole-20171129T145583\""
   ]
  },
  {
   "cell_type": "markdown",
   "metadata": {},
   "source": [
    "## Upload data to S3"
   ]
  },
  {
   "cell_type": "code",
   "execution_count": 7,
   "metadata": {},
   "outputs": [],
   "source": [
    "# Upload training data from local machine to S3\n",
    "local_data_location = \"../data\"\n",
    "\n",
    "data_location = sagemaker_session.upload_data(\n",
    "    path=local_data_location, key_prefix=\"sagemaker_demo_data\"\n",
    ")"
   ]
  },
  {
   "cell_type": "markdown",
   "metadata": {},
   "source": [
    "## Run Script"
   ]
  },
  {
   "cell_type": "code",
   "execution_count": 32,
   "metadata": {},
   "outputs": [],
   "source": [
    "# define hyper parameter ranges\n",
    "metric_definitions = [\n",
    "    {\"Name\": \"test_roc_auc\", \"Regex\": \"test_roc_auc: (.+?);$\"},\n",
    "]\n",
    "\n",
    "# define range of parameters to optimise for\n",
    "params_to_optimise = {\n",
    "    \"penalty\": CategoricalParameter([\"l1\", \"l2\"]),\n",
    "    \"C\": ContinuousParameter(min_value=0.001, max_value=10.0, scaling_type=\"Logarithmic\"),\n",
    "}"
   ]
  },
  {
   "cell_type": "code",
   "execution_count": 33,
   "metadata": {},
   "outputs": [],
   "source": [
    "# define how to run\n",
    "sklearn = SKLearn(\n",
    "    entry_point='../04_sagemaker_ml/dummy_ml_script_with_args_for_sagemaker.py',\n",
    "    train_instance_type=\"ml.m5.large\",\n",
    "    role=role,\n",
    "    sagemaker_session=sagemaker_session,\n",
    ")\n",
    "\n",
    "tuner = HyperparameterTuner(\n",
    "    estimator=sklearn,\n",
    "    max_jobs=10,\n",
    "    max_parallel_jobs=3,\n",
    "    hyperparameter_ranges=params_to_optimise,\n",
    "    strategy=\"Bayesian\",\n",
    "    metric_definitions=metric_definitions,\n",
    "    objective_metric_name=\"test_roc_auc\",\n",
    "    objective_type=\"Maximize\",\n",
    "    base_tuning_job_name=\"sklearn-demo-hyperopt\",\n",
    ")"
   ]
  },
  {
   "cell_type": "code",
   "execution_count": 34,
   "metadata": {},
   "outputs": [],
   "source": [
    "# run script\n",
    "tuner.fit({\"train\": data_location})"
   ]
  },
  {
   "cell_type": "markdown",
   "metadata": {},
   "source": [
    "## Look at results"
   ]
  },
  {
   "cell_type": "code",
   "execution_count": 37,
   "metadata": {},
   "outputs": [],
   "source": [
    "job_analytics = HyperparameterTuningJobAnalytics(\n",
    "    sagemaker_session=sagemaker_session,\n",
    "    hyperparameter_tuning_job_name=\"sklearn-demo-hyperop-200219-1517\",\n",
    ")\n",
    "job_analytics_df = job_analytics.dataframe()"
   ]
  },
  {
   "cell_type": "code",
   "execution_count": 38,
   "metadata": {},
   "outputs": [
    {
     "data": {
      "text/html": [
       "<div>\n",
       "<style scoped>\n",
       "    .dataframe tbody tr th:only-of-type {\n",
       "        vertical-align: middle;\n",
       "    }\n",
       "\n",
       "    .dataframe tbody tr th {\n",
       "        vertical-align: top;\n",
       "    }\n",
       "\n",
       "    .dataframe thead th {\n",
       "        text-align: right;\n",
       "    }\n",
       "</style>\n",
       "<table border=\"1\" class=\"dataframe\">\n",
       "  <thead>\n",
       "    <tr style=\"text-align: right;\">\n",
       "      <th></th>\n",
       "      <th>C</th>\n",
       "      <th>penalty</th>\n",
       "      <th>TrainingJobName</th>\n",
       "      <th>TrainingJobStatus</th>\n",
       "      <th>FinalObjectiveValue</th>\n",
       "      <th>TrainingStartTime</th>\n",
       "      <th>TrainingEndTime</th>\n",
       "      <th>TrainingElapsedTimeSeconds</th>\n",
       "    </tr>\n",
       "  </thead>\n",
       "  <tbody>\n",
       "    <tr>\n",
       "      <th>0</th>\n",
       "      <td>0.001098</td>\n",
       "      <td>\"l1\"</td>\n",
       "      <td>sklearn-demo-hyperop-200219-1517-010-83ffd497</td>\n",
       "      <td>Completed</td>\n",
       "      <td>0.995464</td>\n",
       "      <td>2020-02-19 15:28:04+00:00</td>\n",
       "      <td>2020-02-19 15:29:02+00:00</td>\n",
       "      <td>58.0</td>\n",
       "    </tr>\n",
       "    <tr>\n",
       "      <th>1</th>\n",
       "      <td>0.001299</td>\n",
       "      <td>\"l1\"</td>\n",
       "      <td>sklearn-demo-hyperop-200219-1517-009-e1577be8</td>\n",
       "      <td>Completed</td>\n",
       "      <td>0.995464</td>\n",
       "      <td>2020-02-19 15:25:53+00:00</td>\n",
       "      <td>2020-02-19 15:26:58+00:00</td>\n",
       "      <td>65.0</td>\n",
       "    </tr>\n",
       "    <tr>\n",
       "      <th>2</th>\n",
       "      <td>6.899607</td>\n",
       "      <td>\"l2\"</td>\n",
       "      <td>sklearn-demo-hyperop-200219-1517-008-4b7d0b6f</td>\n",
       "      <td>Completed</td>\n",
       "      <td>0.995322</td>\n",
       "      <td>2020-02-19 15:25:42+00:00</td>\n",
       "      <td>2020-02-19 15:26:46+00:00</td>\n",
       "      <td>64.0</td>\n",
       "    </tr>\n",
       "    <tr>\n",
       "      <th>3</th>\n",
       "      <td>0.005127</td>\n",
       "      <td>\"l2\"</td>\n",
       "      <td>sklearn-demo-hyperop-200219-1517-007-37f3baf2</td>\n",
       "      <td>Completed</td>\n",
       "      <td>0.995399</td>\n",
       "      <td>2020-02-19 15:25:23+00:00</td>\n",
       "      <td>2020-02-19 15:26:20+00:00</td>\n",
       "      <td>57.0</td>\n",
       "    </tr>\n",
       "    <tr>\n",
       "      <th>4</th>\n",
       "      <td>0.003220</td>\n",
       "      <td>\"l2\"</td>\n",
       "      <td>sklearn-demo-hyperop-200219-1517-006-2283b1d1</td>\n",
       "      <td>Completed</td>\n",
       "      <td>0.995401</td>\n",
       "      <td>2020-02-19 15:22:37+00:00</td>\n",
       "      <td>2020-02-19 15:23:41+00:00</td>\n",
       "      <td>64.0</td>\n",
       "    </tr>\n",
       "    <tr>\n",
       "      <th>5</th>\n",
       "      <td>0.002142</td>\n",
       "      <td>\"l1\"</td>\n",
       "      <td>sklearn-demo-hyperop-200219-1517-005-d0b0eb7a</td>\n",
       "      <td>Completed</td>\n",
       "      <td>0.995464</td>\n",
       "      <td>2020-02-19 15:22:30+00:00</td>\n",
       "      <td>2020-02-19 15:23:27+00:00</td>\n",
       "      <td>57.0</td>\n",
       "    </tr>\n",
       "    <tr>\n",
       "      <th>6</th>\n",
       "      <td>0.002936</td>\n",
       "      <td>\"l2\"</td>\n",
       "      <td>sklearn-demo-hyperop-200219-1517-004-353103aa</td>\n",
       "      <td>Completed</td>\n",
       "      <td>0.995401</td>\n",
       "      <td>2020-02-19 15:22:55+00:00</td>\n",
       "      <td>2020-02-19 15:23:57+00:00</td>\n",
       "      <td>62.0</td>\n",
       "    </tr>\n",
       "    <tr>\n",
       "      <th>7</th>\n",
       "      <td>0.008712</td>\n",
       "      <td>\"l1\"</td>\n",
       "      <td>sklearn-demo-hyperop-200219-1517-003-7c2eec42</td>\n",
       "      <td>Completed</td>\n",
       "      <td>0.995464</td>\n",
       "      <td>2020-02-19 15:19:36+00:00</td>\n",
       "      <td>2020-02-19 15:20:38+00:00</td>\n",
       "      <td>62.0</td>\n",
       "    </tr>\n",
       "    <tr>\n",
       "      <th>8</th>\n",
       "      <td>0.001730</td>\n",
       "      <td>\"l1\"</td>\n",
       "      <td>sklearn-demo-hyperop-200219-1517-002-9faf0213</td>\n",
       "      <td>Completed</td>\n",
       "      <td>0.995464</td>\n",
       "      <td>2020-02-19 15:19:15+00:00</td>\n",
       "      <td>2020-02-19 15:20:23+00:00</td>\n",
       "      <td>68.0</td>\n",
       "    </tr>\n",
       "    <tr>\n",
       "      <th>9</th>\n",
       "      <td>0.127057</td>\n",
       "      <td>\"l1\"</td>\n",
       "      <td>sklearn-demo-hyperop-200219-1517-001-1bc75e4f</td>\n",
       "      <td>Completed</td>\n",
       "      <td>0.995435</td>\n",
       "      <td>2020-02-19 15:19:06+00:00</td>\n",
       "      <td>2020-02-19 15:20:04+00:00</td>\n",
       "      <td>58.0</td>\n",
       "    </tr>\n",
       "  </tbody>\n",
       "</table>\n",
       "</div>"
      ],
      "text/plain": [
       "          C penalty                                TrainingJobName  \\\n",
       "0  0.001098    \"l1\"  sklearn-demo-hyperop-200219-1517-010-83ffd497   \n",
       "1  0.001299    \"l1\"  sklearn-demo-hyperop-200219-1517-009-e1577be8   \n",
       "2  6.899607    \"l2\"  sklearn-demo-hyperop-200219-1517-008-4b7d0b6f   \n",
       "3  0.005127    \"l2\"  sklearn-demo-hyperop-200219-1517-007-37f3baf2   \n",
       "4  0.003220    \"l2\"  sklearn-demo-hyperop-200219-1517-006-2283b1d1   \n",
       "5  0.002142    \"l1\"  sklearn-demo-hyperop-200219-1517-005-d0b0eb7a   \n",
       "6  0.002936    \"l2\"  sklearn-demo-hyperop-200219-1517-004-353103aa   \n",
       "7  0.008712    \"l1\"  sklearn-demo-hyperop-200219-1517-003-7c2eec42   \n",
       "8  0.001730    \"l1\"  sklearn-demo-hyperop-200219-1517-002-9faf0213   \n",
       "9  0.127057    \"l1\"  sklearn-demo-hyperop-200219-1517-001-1bc75e4f   \n",
       "\n",
       "  TrainingJobStatus  FinalObjectiveValue         TrainingStartTime  \\\n",
       "0         Completed             0.995464 2020-02-19 15:28:04+00:00   \n",
       "1         Completed             0.995464 2020-02-19 15:25:53+00:00   \n",
       "2         Completed             0.995322 2020-02-19 15:25:42+00:00   \n",
       "3         Completed             0.995399 2020-02-19 15:25:23+00:00   \n",
       "4         Completed             0.995401 2020-02-19 15:22:37+00:00   \n",
       "5         Completed             0.995464 2020-02-19 15:22:30+00:00   \n",
       "6         Completed             0.995401 2020-02-19 15:22:55+00:00   \n",
       "7         Completed             0.995464 2020-02-19 15:19:36+00:00   \n",
       "8         Completed             0.995464 2020-02-19 15:19:15+00:00   \n",
       "9         Completed             0.995435 2020-02-19 15:19:06+00:00   \n",
       "\n",
       "            TrainingEndTime  TrainingElapsedTimeSeconds  \n",
       "0 2020-02-19 15:29:02+00:00                        58.0  \n",
       "1 2020-02-19 15:26:58+00:00                        65.0  \n",
       "2 2020-02-19 15:26:46+00:00                        64.0  \n",
       "3 2020-02-19 15:26:20+00:00                        57.0  \n",
       "4 2020-02-19 15:23:41+00:00                        64.0  \n",
       "5 2020-02-19 15:23:27+00:00                        57.0  \n",
       "6 2020-02-19 15:23:57+00:00                        62.0  \n",
       "7 2020-02-19 15:20:38+00:00                        62.0  \n",
       "8 2020-02-19 15:20:23+00:00                        68.0  \n",
       "9 2020-02-19 15:20:04+00:00                        58.0  "
      ]
     },
     "execution_count": 38,
     "metadata": {},
     "output_type": "execute_result"
    }
   ],
   "source": [
    "job_analytics_df"
   ]
  },
  {
   "cell_type": "code",
   "execution_count": null,
   "metadata": {},
   "outputs": [],
   "source": []
  }
 ],
 "metadata": {
  "kernelspec": {
   "display_name": "Python 3",
   "language": "python",
   "name": "python3"
  },
  "language_info": {
   "codemirror_mode": {
    "name": "ipython",
    "version": 3
   },
   "file_extension": ".py",
   "mimetype": "text/x-python",
   "name": "python",
   "nbconvert_exporter": "python",
   "pygments_lexer": "ipython3",
   "version": "3.7.6"
  },
  "pycharm": {
   "stem_cell": {
    "cell_type": "raw",
    "source": [],
    "metadata": {
     "collapsed": false
    }
   }
  }
 },
 "nbformat": 4,
 "nbformat_minor": 1
}