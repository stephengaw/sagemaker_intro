{
 "cells": [
  {
   "cell_type": "markdown",
   "metadata": {},
   "source": [
    "# 05 - Running Sagemaker Hyperparameter optimisation with your ML Script\n",
    "\n",
    "You want to test various hyperparameters by testing and evaluating your module multiple times. SageMaker can do this by creating many jobs in parallel."
   ]
  },
  {
   "cell_type": "code",
   "execution_count": 1,
   "metadata": {},
   "outputs": [],
   "source": [
    "import os\n",
    "import boto3\n",
    "from sagemaker import Session\n",
    "from sagemaker.sklearn.estimator import SKLearn\n",
    "from sagemaker.tuner import HyperparameterTuner\n",
    "from sagemaker.tuner import CategoricalParameter, ContinuousParameter\n",
    "from sagemaker.analytics import HyperparameterTuningJobAnalytics"
   ]
  },
  {
   "cell_type": "markdown",
   "metadata": {},
   "source": [
    "## AWS Session"
   ]
  },
  {
   "cell_type": "code",
   "execution_count": 2,
   "metadata": {},
   "outputs": [],
   "source": [
    "boto3_session = boto3.Session(region_name=os.environ.get(\"DEMO_AWS_REGION\"), profile_name=os.environ.get(\"DEMO_AWS_PROFILE_NAME\"))\n",
    "\n",
    "sagemaker_session = Session(boto_session=boto3_session)\n",
    "\n",
    "account = os.environ.get(\"DEMO_AWS_ACCOUNT\")  # sandbox-admin account\n",
    "role = f\"arn:aws:iam::{account}:role/service-role/AmazonSageMaker-ExecutionRole-20171129T145583\""
   ]
  },
  {
   "cell_type": "markdown",
   "metadata": {},
   "source": [
    "## Upload data to S3"
   ]
  },
  {
   "cell_type": "code",
   "execution_count": 3,
   "metadata": {},
   "outputs": [],
   "source": [
    "# Upload training data from local machine to S3\n",
    "local_data_location = \"../data\"\n",
    "\n",
    "data_location = sagemaker_session.upload_data(\n",
    "    path=local_data_location, key_prefix=\"sagemaker_demo_data\"\n",
    ")"
   ]
  },
  {
   "cell_type": "code",
   "execution_count": 4,
   "metadata": {},
   "outputs": [
    {
     "data": {
      "text/plain": [
       "'s3://sagemaker-eu-west-1-604842001064/sagemaker_demo_data'"
      ]
     },
     "execution_count": 4,
     "metadata": {},
     "output_type": "execute_result"
    }
   ],
   "source": [
    "data_location"
   ]
  },
  {
   "cell_type": "markdown",
   "metadata": {},
   "source": [
    "## Run Script"
   ]
  },
  {
   "cell_type": "code",
   "execution_count": 5,
   "metadata": {},
   "outputs": [],
   "source": [
    "# define hyper parameter ranges\n",
    "metric_definitions = [\n",
    "    {\"Name\": \"test_roc_auc\", \"Regex\": \"test_roc_auc: (.+?);$\"},\n",
    "]\n",
    "\n",
    "# define range of parameters to optimise for\n",
    "params_to_optimise = {\n",
    "    \"penalty\": CategoricalParameter([\"l1\", \"l2\"]),\n",
    "    \"C\": ContinuousParameter(min_value=0.001, max_value=10.0, scaling_type=\"Logarithmic\"),\n",
    "}"
   ]
  },
  {
   "cell_type": "code",
   "execution_count": 6,
   "metadata": {},
   "outputs": [],
   "source": [
    "# define how to run - using the last demo's script\n",
    "sklearn = SKLearn(\n",
    "    entry_point='../04_sagemaker_ml/dummy_ml_script_with_args_for_sagemaker.py',\n",
    "    train_instance_type=\"ml.m5.large\",\n",
    "    role=role,\n",
    "    sagemaker_session=sagemaker_session,\n",
    ")\n",
    "\n",
    "tuner = HyperparameterTuner(\n",
    "    estimator=sklearn,\n",
    "    max_jobs=10,\n",
    "    max_parallel_jobs=3,\n",
    "    hyperparameter_ranges=params_to_optimise,\n",
    "    strategy=\"Bayesian\",\n",
    "    metric_definitions=metric_definitions,\n",
    "    objective_metric_name=\"test_roc_auc\",\n",
    "    objective_type=\"Maximize\",\n",
    "    base_tuning_job_name=\"sklearn-demo-hyperopt\",\n",
    ")"
   ]
  },
  {
   "cell_type": "code",
   "execution_count": 7,
   "metadata": {},
   "outputs": [],
   "source": [
    "# run script\n",
    "tuner.fit({\"train\": data_location})"
   ]
  },
  {
   "cell_type": "markdown",
   "metadata": {},
   "source": [
    "## Look at results"
   ]
  },
  {
   "cell_type": "code",
   "execution_count": 8,
   "metadata": {},
   "outputs": [],
   "source": [
    "job_analytics = HyperparameterTuningJobAnalytics(\n",
    "    sagemaker_session=sagemaker_session,\n",
    "    hyperparameter_tuning_job_name=\"sklearn-demo-hyperop-200220-1015\",\n",
    ")\n",
    "job_analytics_df = job_analytics.dataframe()"
   ]
  },
  {
   "cell_type": "code",
   "execution_count": 9,
   "metadata": {},
   "outputs": [
    {
     "data": {
      "text/html": [
       "<div>\n",
       "<style scoped>\n",
       "    .dataframe tbody tr th:only-of-type {\n",
       "        vertical-align: middle;\n",
       "    }\n",
       "\n",
       "    .dataframe tbody tr th {\n",
       "        vertical-align: top;\n",
       "    }\n",
       "\n",
       "    .dataframe thead th {\n",
       "        text-align: right;\n",
       "    }\n",
       "</style>\n",
       "<table border=\"1\" class=\"dataframe\">\n",
       "  <thead>\n",
       "    <tr style=\"text-align: right;\">\n",
       "      <th></th>\n",
       "      <th>C</th>\n",
       "      <th>penalty</th>\n",
       "      <th>TrainingJobName</th>\n",
       "      <th>TrainingJobStatus</th>\n",
       "      <th>FinalObjectiveValue</th>\n",
       "      <th>TrainingStartTime</th>\n",
       "      <th>TrainingEndTime</th>\n",
       "    </tr>\n",
       "  </thead>\n",
       "  <tbody>\n",
       "    <tr>\n",
       "      <th>0</th>\n",
       "      <td>0.002017</td>\n",
       "      <td>\"l2\"</td>\n",
       "      <td>sklearn-demo-hyperop-200220-1015-003-09a4e710</td>\n",
       "      <td>InProgress</td>\n",
       "      <td>None</td>\n",
       "      <td>None</td>\n",
       "      <td>None</td>\n",
       "    </tr>\n",
       "    <tr>\n",
       "      <th>1</th>\n",
       "      <td>0.152386</td>\n",
       "      <td>\"l2\"</td>\n",
       "      <td>sklearn-demo-hyperop-200220-1015-002-c7cb6be4</td>\n",
       "      <td>InProgress</td>\n",
       "      <td>None</td>\n",
       "      <td>None</td>\n",
       "      <td>None</td>\n",
       "    </tr>\n",
       "    <tr>\n",
       "      <th>2</th>\n",
       "      <td>1.572507</td>\n",
       "      <td>\"l2\"</td>\n",
       "      <td>sklearn-demo-hyperop-200220-1015-001-0e07e012</td>\n",
       "      <td>InProgress</td>\n",
       "      <td>None</td>\n",
       "      <td>None</td>\n",
       "      <td>None</td>\n",
       "    </tr>\n",
       "  </tbody>\n",
       "</table>\n",
       "</div>"
      ],
      "text/plain": [
       "          C penalty                                TrainingJobName  \\\n",
       "0  0.002017    \"l2\"  sklearn-demo-hyperop-200220-1015-003-09a4e710   \n",
       "1  0.152386    \"l2\"  sklearn-demo-hyperop-200220-1015-002-c7cb6be4   \n",
       "2  1.572507    \"l2\"  sklearn-demo-hyperop-200220-1015-001-0e07e012   \n",
       "\n",
       "  TrainingJobStatus FinalObjectiveValue TrainingStartTime TrainingEndTime  \n",
       "0        InProgress                None              None            None  \n",
       "1        InProgress                None              None            None  \n",
       "2        InProgress                None              None            None  "
      ]
     },
     "execution_count": 9,
     "metadata": {},
     "output_type": "execute_result"
    }
   ],
   "source": [
    "job_analytics_df"
   ]
  },
  {
   "cell_type": "code",
   "execution_count": null,
   "metadata": {},
   "outputs": [],
   "source": []
  }
 ],
 "metadata": {
  "kernelspec": {
   "display_name": "Python 3",
   "language": "python",
   "name": "python3"
  },
  "language_info": {
   "codemirror_mode": {
    "name": "ipython",
    "version": 3
   },
   "file_extension": ".py",
   "mimetype": "text/x-python",
   "name": "python",
   "nbconvert_exporter": "python",
   "pygments_lexer": "ipython3",
   "version": "3.7.6"
  },
  "pycharm": {
   "stem_cell": {
    "cell_type": "raw",
    "metadata": {
     "collapsed": false
    },
    "source": []
   }
  }
 },
 "nbformat": 4,
 "nbformat_minor": 1
}
